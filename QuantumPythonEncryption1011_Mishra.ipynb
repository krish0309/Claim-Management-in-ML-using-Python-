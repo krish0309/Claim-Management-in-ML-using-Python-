{
  "nbformat": 4,
  "nbformat_minor": 0,
  "metadata": {
    "colab": {
      "provenance": [],
      "authorship_tag": "ABX9TyMyCe3ZNedZE3Z5WHOuujsH",
      "include_colab_link": true
    },
    "kernelspec": {
      "name": "python3",
      "display_name": "Python 3"
    },
    "language_info": {
      "name": "python"
    }
  },
  "cells": [
    {
      "cell_type": "markdown",
      "metadata": {
        "id": "view-in-github",
        "colab_type": "text"
      },
      "source": [
        "<a href=\"https://colab.research.google.com/github/krish0309/Claim-Management-in-ML-using-Python-/blob/main/QuantumPythonEncryption1011_Mishra.ipynb\" target=\"_parent\"><img src=\"https://colab.research.google.com/assets/colab-badge.svg\" alt=\"Open In Colab\"/></a>"
      ]
    },
    {
      "cell_type": "markdown",
      "source": [
        "```\n",
        "Spring 2024 Qubit by Qubit's Introduction to Quantum Computing\n",
        "\n",
        "```\n",
        "\n"
      ],
      "metadata": {
        "id": "t3WBvhy9mGeq"
      }
    },
    {
      "cell_type": "markdown",
      "source": [
        "```\n",
        "Capstone Project Final Submission: Encryption in Python\n",
        "```"
      ],
      "metadata": {
        "id": "_msjwpAmpTDS"
      }
    },
    {
      "cell_type": "markdown",
      "source": [
        "```\n",
        "By - Krishna Kant Mishra (Student Code- 1011_Mishra)\n",
        "```"
      ],
      "metadata": {
        "id": "i4NzepkVpKiL"
      }
    },
    {
      "cell_type": "markdown",
      "source": [
        "```\n",
        "Project: Quantum Key Distribution (QKD) with Fernet Encryption using BB84\n",
        "```\n"
      ],
      "metadata": {
        "id": "J6nT7Ehrv86P"
      }
    },
    {
      "cell_type": "markdown",
      "source": [
        "**Description:**\n",
        "We simulate the Quantum Key Distribution (QKD) process using the BB84 protocol to generate a shared key between Alice and Bob. The shared key is then used for Fernet encryption and decryption, ensuring secure communication."
      ],
      "metadata": {
        "id": "fgu78P6nwQst"
      }
    },
    {
      "cell_type": "markdown",
      "source": [
        "**Libraries and Technologies Used:**\n",
        "* Python: Programming language\n",
        "* Cirq: Quantum computing framework\n",
        "* cryptography: Fernet encryption library, hashes, and PBKDF2HMAC\n",
        "\n"
      ],
      "metadata": {
        "id": "YXpDKto7wa_e"
      }
    },
    {
      "cell_type": "markdown",
      "source": [
        "**Acknowledgment:**\n",
        "This project was developed as part of the final capstone project in the “Qubit by Qubit” course taught by The Coding School."
      ],
      "metadata": {
        "id": "gPDV95M9wNsL"
      }
    },
    {
      "cell_type": "code",
      "source": [
        "# Import necessary modules\n",
        "from cryptography.fernet import Fernet\n",
        "!pip install cirq --quiet\n",
        "import cirq\n",
        "from random import choices\n",
        "import base64\n",
        "from cryptography.hazmat.primitives import hashes\n",
        "!pip install --upgrade cryptography\n",
        "from cryptography.hazmat.primitives.kdf.pbkdf2 import PBKDF2HMAC"
      ],
      "metadata": {
        "colab": {
          "base_uri": "https://localhost:8080/"
        },
        "id": "f27pJY7cyqZC",
        "outputId": "65d89843-620c-4723-cc10-7946c8be33db"
      },
      "execution_count": null,
      "outputs": [
        {
          "output_type": "stream",
          "name": "stdout",
          "text": [
            "Requirement already satisfied: cryptography in /usr/local/lib/python3.10/dist-packages (42.0.5)\n",
            "Requirement already satisfied: cffi>=1.12 in /usr/local/lib/python3.10/dist-packages (from cryptography) (1.16.0)\n",
            "Requirement already satisfied: pycparser in /usr/local/lib/python3.10/dist-packages (from cffi>=1.12->cryptography) (2.22)\n"
          ]
        }
      ]
    },
    {
      "cell_type": "code",
      "source": [
        "#select basis gates and encode gates\n",
        "\n",
        "basis_gates = {'Z': cirq.I, 'X': cirq.H}\n",
        "encode_gates = {0: cirq.I, 1: cirq.X}\n"
      ],
      "metadata": {
        "id": "-vobA11S8dHU"
      },
      "execution_count": null,
      "outputs": []
    },
    {
      "cell_type": "code",
      "source": [
        "#Number of qubit for key's strength\n",
        "num_bits = 33 #taking 33 as the first bit will be removed in process and we require key of length 32 for Fernet"
      ],
      "metadata": {
        "id": "qn5DDYZG9NqX"
      },
      "execution_count": null,
      "outputs": []
    },
    {
      "cell_type": "code",
      "source": [
        "# Randon key for encrption, for the sender or simply Alice's Key\n",
        "alice_key = choices([0, 1], k = num_bits)\n",
        "\n",
        "print(alice_key)"
      ],
      "metadata": {
        "colab": {
          "base_uri": "https://localhost:8080/"
        },
        "id": "PmX30ka29XcZ",
        "outputId": "cda3af90-bcc1-4460-f920-7d97c02f1716"
      },
      "execution_count": null,
      "outputs": [
        {
          "output_type": "stream",
          "name": "stdout",
          "text": [
            "[0, 0, 1, 1, 0, 0, 1, 1, 1, 1, 0, 0, 1, 1, 0, 0, 0, 0, 0, 0, 0, 1, 0, 1, 1, 0, 1, 1, 1, 1, 0, 0, 0]\n"
          ]
        }
      ]
    },
    {
      "cell_type": "code",
      "source": [
        "# JSON data to be encrypted as a string\n",
        "json_data = '{\"name\": \"Krishna\", \"age\": 23}'"
      ],
      "metadata": {
        "id": "NNZz4xL59toI"
      },
      "execution_count": null,
      "outputs": []
    },
    {
      "cell_type": "code",
      "source": [
        "# Alice's part of BB84\n",
        "qubits = cirq.NamedQubit.range(num_bits, prefix = 'q')\n",
        "alice_bases = choices(['Z', 'X'], k = num_bits)\n",
        "alice_circuit = cirq.Circuit()\n",
        "for bit in range(num_bits):\n",
        "\n",
        "  encode_value = alice_key[bit]\n",
        "  encode_gate = encode_gates[encode_value]\n",
        "\n",
        "  basis_value = alice_bases[bit]\n",
        "  basis_gate = basis_gates[basis_value]\n",
        "\n",
        "  qubit = qubits[bit]\n",
        "  alice_circuit.append(encode_gate(qubit))\n",
        "  alice_circuit.append(basis_gate(qubit))\n",
        "\n",
        "print(alice_circuit)"
      ],
      "metadata": {
        "colab": {
          "base_uri": "https://localhost:8080/"
        },
        "id": "GiKGVDivTy7w",
        "outputId": "15cdceb7-a191-485d-ea0d-c38db8a100e2"
      },
      "execution_count": null,
      "outputs": [
        {
          "output_type": "stream",
          "name": "stdout",
          "text": [
            "q0: ────I───H───\n",
            "\n",
            "q1: ────I───H───\n",
            "\n",
            "q2: ────X───I───\n",
            "\n",
            "q3: ────X───H───\n",
            "\n",
            "q4: ────I───I───\n",
            "\n",
            "q5: ────I───H───\n",
            "\n",
            "q6: ────X───I───\n",
            "\n",
            "q7: ────X───I───\n",
            "\n",
            "q8: ────X───I───\n",
            "\n",
            "q9: ────X───I───\n",
            "\n",
            "q10: ───I───I───\n",
            "\n",
            "q11: ───I───I───\n",
            "\n",
            "q12: ───X───I───\n",
            "\n",
            "q13: ───X───I───\n",
            "\n",
            "q14: ───I───H───\n",
            "\n",
            "q15: ───I───H───\n",
            "\n",
            "q16: ───I───I───\n",
            "\n",
            "q17: ───I───I───\n",
            "\n",
            "q18: ───I───I───\n",
            "\n",
            "q19: ───I───I───\n",
            "\n",
            "q20: ───I───H───\n",
            "\n",
            "q21: ───X───I───\n",
            "\n",
            "q22: ───I───H───\n",
            "\n",
            "q23: ───X───H───\n",
            "\n",
            "q24: ───X───I───\n",
            "\n",
            "q25: ───I───I───\n",
            "\n",
            "q26: ───X───H───\n",
            "\n",
            "q27: ───X───H───\n",
            "\n",
            "q28: ───X───I───\n",
            "\n",
            "q29: ───X───H───\n",
            "\n",
            "q30: ───I───I───\n",
            "\n",
            "q31: ───I───I───\n",
            "\n",
            "q32: ───I───I───\n"
          ]
        }
      ]
    },
    {
      "cell_type": "code",
      "source": [
        "# Bob's part of BB84\n",
        "bob_bases = choices(['Z', 'X'], k=num_bits)\n",
        "\n",
        "# Step 6: Bob measures qubits\n",
        "bob_circuit = cirq.Circuit()\n",
        "for bit in range(num_bits):\n",
        "    basis_value = bob_bases[bit]\n",
        "    basis_gate = basis_gates[basis_value]\n",
        "\n",
        "    qubit = qubits[bit]\n",
        "    bob_circuit.append(basis_gate(qubit))\n",
        "\n",
        "bob_circuit.append(cirq.measure(qubits, key = 'bob key'))\n",
        "bb84_circuit = alice_circuit + bob_circuit\n",
        "\n",
        "sim = cirq.Simulator()\n",
        "results = sim.run(bb84_circuit)\n",
        "bob_key = results.measurements['bob key'][0]\n"
      ],
      "metadata": {
        "id": "_Hnw2x31ePyj"
      },
      "execution_count": null,
      "outputs": []
    },
    {
      "cell_type": "code",
      "source": [
        "# Getting final key of Alice and Bob for encryption and decryption according to the BB84 Algo\n",
        "\n",
        "final_alice_key = []\n",
        "final_bob_key = []\n",
        "\n",
        "def get_final_key(final_alice_key,final_bob_key):\n",
        "  for bit in range(num_bits):\n",
        "    if alice_bases[bit] == bob_bases[bit]:\n",
        "      final_alice_key.append(alice_key[bit])\n",
        "      final_bob_key.append(bob_key[bit])\n",
        "\n",
        "# Step : Checking for an Eavesdropper\n",
        "  if final_alice_key[0] == final_bob_key[0]:\n",
        "    final_alice_key = final_alice_key[1:]\n",
        "    final_bob_key = final_bob_key[1:]\n",
        "    print('We can use our keys!')\n",
        "  else:\n",
        "    print('Eve was listening, we need to use a different channel!')\n",
        "\n",
        "\n",
        "get_final_key(final_alice_key,final_bob_key)\n"
      ],
      "metadata": {
        "colab": {
          "base_uri": "https://localhost:8080/"
        },
        "id": "xWoE-5vXen9x",
        "outputId": "853ff245-c185-4573-ba6d-0a848cbefda1"
      },
      "execution_count": null,
      "outputs": [
        {
          "output_type": "stream",
          "name": "stdout",
          "text": [
            "We can use our keys!\n"
          ]
        }
      ]
    },
    {
      "cell_type": "code",
      "source": [
        "# Use the Alice's key for Fernet encryption suite on Alice side\n",
        "alice_key_bytes=bytes(final_alice_key) #''.join(str(x) for x in alice_key)\n",
        "alice_derived_key = PBKDF2HMAC(\n",
        "    algorithm=hashes.SHA256(),\n",
        "    iterations=100000,\n",
        "    salt=alice_key_bytes,\n",
        "    length=32,\n",
        ").derive(alice_key_bytes)\n",
        "print(final_alice_key)\n",
        "alice_key_string = base64.urlsafe_b64encode(alice_derived_key) #alice_key_string + '=' * (4 - len(alice_key_string) % 4)\n",
        "print(alice_key_string)\n",
        "cipher_suite_alice = Fernet(alice_key_string)\n",
        "\n",
        "\n",
        "# Encrypt the JSON data\n",
        "encrypted_data = cipher_suite_alice.encrypt(json_data.encode())\n"
      ],
      "metadata": {
        "colab": {
          "base_uri": "https://localhost:8080/"
        },
        "id": "oDse9Fgvyv_g",
        "outputId": "04103810-9d01-47fe-9442-2894f158a71e"
      },
      "execution_count": null,
      "outputs": [
        {
          "output_type": "stream",
          "name": "stdout",
          "text": [
            "[0, 1, 1, 0, 1, 1, 1, 0, 0, 1, 0, 0, 0, 0, 1, 1, 0]\n",
            "b'NvGR_g4BOQcbudIlNJfG2wZsiDiTtuiX8wmn_AC7Q3E='\n"
          ]
        }
      ]
    },
    {
      "cell_type": "code",
      "source": [
        "# Use the Bob's key for Fernet encryption suite on Bob side\n",
        "bob_key_bytes=bytes(final_bob_key) # chaning the original key to bytes so support fenets requirement\n",
        "bob_derived_key = PBKDF2HMAC(\n",
        "    algorithm=hashes.SHA256(),\n",
        "    iterations=100000,\n",
        "    salt=bob_key_bytes,\n",
        "    length=32,\n",
        ").derive(bob_key_bytes)  # getting a key by salting the bob_key_bytes as need fernet's key to be 32 url-safe base64-encoded bytes\"\n",
        "bob_key_string = base64.urlsafe_b64encode(bob_derived_key)\n",
        "print(bob_key_string)\n",
        "cipher_suite_bob = Fernet(bob_key_string)\n",
        "\n",
        "# Bob decrypting the encrytped data with the help of his key.\n",
        "decrypted_data = cipher_suite_bob.decrypt(encrypted_data).decode()"
      ],
      "metadata": {
        "colab": {
          "base_uri": "https://localhost:8080/"
        },
        "id": "zy5XpTj9zIty",
        "outputId": "982df642-b1c5-4b2b-b5bb-5cf8e26e0bc8"
      },
      "execution_count": null,
      "outputs": [
        {
          "output_type": "stream",
          "name": "stdout",
          "text": [
            "b'NvGR_g4BOQcbudIlNJfG2wZsiDiTtuiX8wmn_AC7Q3E='\n"
          ]
        }
      ]
    },
    {
      "cell_type": "code",
      "source": [
        "#viewing original data, encrpted data, and decrpyted data.\n",
        "print(\"Original data:\",json_data)\n",
        "print(\"Encrypted data:\", encrypted_data)\n",
        "print(\"Decrypted data (original JSON):\", decrypted_data)"
      ],
      "metadata": {
        "colab": {
          "base_uri": "https://localhost:8080/"
        },
        "id": "7509yGS8zqVq",
        "outputId": "2734e681-24e5-4859-ed36-e2e82ede0b96"
      },
      "execution_count": null,
      "outputs": [
        {
          "output_type": "stream",
          "name": "stdout",
          "text": [
            "Original data: {\"name\": \"Krishna\", \"age\": 23}\n",
            "Encrypted data: b'gAAAAABmJUC44gRkS7Sf6fLnnOoYYO6Wk-FM4LMC-UTU1qMZRbZ8bthm6GkfsJLkEvVdIHGyvEgbDvRrdJQbeWNQ9-f66bUMTGECNVzImgoKZORNTMp-qAM='\n",
            "Decrypted data (original JSON): {\"name\": \"Krishna\", \"age\": 23}\n"
          ]
        }
      ]
    },
    {
      "cell_type": "markdown",
      "source": [
        "```\n",
        "THANK YOU, FOR THIS AMAZING INTRODUCTORY COURSE ON QUANTUM COMPUTING AND SCHOLRSHIP TO PURSUE IT.\n",
        "````"
      ],
      "metadata": {
        "id": "Cn-Brrvjpplh"
      }
    },
    {
      "cell_type": "markdown",
      "source": [
        "```\n",
        "ENTANGLED IN EMOTION OF JOY AND SORROW\n",
        "```"
      ],
      "metadata": {
        "id": "44dPBllWq4-G"
      }
    },
    {
      "cell_type": "code",
      "source": [],
      "metadata": {
        "id": "z6FrG1HRqFq1"
      },
      "execution_count": null,
      "outputs": []
    }
  ]
}